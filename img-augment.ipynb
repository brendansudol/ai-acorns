{
 "cells": [
  {
   "cell_type": "code",
   "execution_count": 45,
   "metadata": {},
   "outputs": [],
   "source": [
    "import glob\n",
    "import os\n",
    "\n",
    "from IPython.display import Image, HTML, display\n",
    "from keras.preprocessing.image import ImageDataGenerator, array_to_img, img_to_array, load_img\n",
    "from PIL import Image"
   ]
  },
  {
   "cell_type": "code",
   "execution_count": 46,
   "metadata": {},
   "outputs": [],
   "source": [
    "orig = 'data/catdog/train/cats/cat.1.jpg'\n",
    "\n",
    "datagen = ImageDataGenerator(\n",
    "    rotation_range=40,\n",
    "    width_shift_range=0.2,\n",
    "    height_shift_range=0.2,\n",
    "    shear_range=0.2,\n",
    "    zoom_range=0.2,\n",
    "    horizontal_flip=True,\n",
    "    fill_mode='nearest'\n",
    ")\n",
    "\n",
    "img = load_img(orig)  # PIL image\n",
    "x = img_to_array(img)  # Numpy array with shape (3, 150, 150)\n",
    "x = x.reshape((1,) + x.shape)  # Numpy array with shape (1, 3, 150, 150)\n",
    "\n",
    "# delete older imgs in output dir\n",
    "for f in glob.glob('data/catdog/augment/*'):\n",
    "    os.remove(f)\n",
    "\n",
    "# .flow() generates batches of randomly transformed images and saves to given dir\n",
    "flow = datagen.flow(x, batch_size=1, save_to_dir='data/catdog/augment', save_prefix='cat', save_format='jpeg')\n",
    "for i, _ in enumerate(flow):\n",
    "    if i > 20:\n",
    "        break"
   ]
  },
  {
   "cell_type": "code",
   "execution_count": 47,
   "metadata": {},
   "outputs": [
    {
     "name": "stdout",
     "output_type": "stream",
     "text": [
      "original:\n"
     ]
    },
    {
     "data": {
      "text/html": [
       "<img style='width:120px;margin:2px;float:left;' src='data/catdog/train/cats/cat.1.jpg'/>"
      ],
      "text/plain": [
       "<IPython.core.display.HTML object>"
      ]
     },
     "metadata": {},
     "output_type": "display_data"
    }
   ],
   "source": [
    "def img_el(src):\n",
    "    return \"<img style='width:120px;margin:2px;float:left;' src='{}'/>\".format(src)\n",
    "\n",
    "print('original:')\n",
    "display(HTML(img_el(orig)))"
   ]
  },
  {
   "cell_type": "code",
   "execution_count": 48,
   "metadata": {},
   "outputs": [
    {
     "name": "stdout",
     "output_type": "stream",
     "text": [
      "transformed:\n"
     ]
    },
    {
     "data": {
      "text/html": [
       "<img style='width: 120px; margin: 2px; float: left;' src='data/catdog/augment/cat_0_1073.jpeg' /><img style='width: 120px; margin: 2px; float: left;' src='data/catdog/augment/cat_0_1083.jpeg' /><img style='width: 120px; margin: 2px; float: left;' src='data/catdog/augment/cat_0_1711.jpeg' /><img style='width: 120px; margin: 2px; float: left;' src='data/catdog/augment/cat_0_1731.jpeg' /><img style='width: 120px; margin: 2px; float: left;' src='data/catdog/augment/cat_0_2207.jpeg' /><img style='width: 120px; margin: 2px; float: left;' src='data/catdog/augment/cat_0_2718.jpeg' /><img style='width: 120px; margin: 2px; float: left;' src='data/catdog/augment/cat_0_2838.jpeg' /><img style='width: 120px; margin: 2px; float: left;' src='data/catdog/augment/cat_0_3505.jpeg' /><img style='width: 120px; margin: 2px; float: left;' src='data/catdog/augment/cat_0_5268.jpeg' /><img style='width: 120px; margin: 2px; float: left;' src='data/catdog/augment/cat_0_6098.jpeg' /><img style='width: 120px; margin: 2px; float: left;' src='data/catdog/augment/cat_0_6450.jpeg' /><img style='width: 120px; margin: 2px; float: left;' src='data/catdog/augment/cat_0_6531.jpeg' /><img style='width: 120px; margin: 2px; float: left;' src='data/catdog/augment/cat_0_6542.jpeg' /><img style='width: 120px; margin: 2px; float: left;' src='data/catdog/augment/cat_0_6822.jpeg' /><img style='width: 120px; margin: 2px; float: left;' src='data/catdog/augment/cat_0_6870.jpeg' /><img style='width: 120px; margin: 2px; float: left;' src='data/catdog/augment/cat_0_6995.jpeg' /><img style='width: 120px; margin: 2px; float: left;' src='data/catdog/augment/cat_0_7069.jpeg' /><img style='width: 120px; margin: 2px; float: left;' src='data/catdog/augment/cat_0_7573.jpeg' /><img style='width: 120px; margin: 2px; float: left;' src='data/catdog/augment/cat_0_7758.jpeg' /><img style='width: 120px; margin: 2px; float: left;' src='data/catdog/augment/cat_0_788.jpeg' /><img style='width: 120px; margin: 2px; float: left;' src='data/catdog/augment/cat_0_8819.jpeg' /><img style='width: 120px; margin: 2px; float: left;' src='data/catdog/augment/cat_0_9286.jpeg' />"
      ],
      "text/plain": [
       "<IPython.core.display.HTML object>"
      ]
     },
     "metadata": {},
     "output_type": "display_data"
    }
   ],
   "source": [
    "new_imgs = [\n",
    "    \"<img style='width: 120px; margin: 2px; float: left;' src='{}' />\".format(img)\n",
    "    for img in glob.glob('data/catdog/augment/*.jpeg')\n",
    "]\n",
    "\n",
    "print('transformed:')\n",
    "display(HTML(''.join(new_imgs)))"
   ]
  }
 ],
 "metadata": {
  "kernelspec": {
   "display_name": "Python 3",
   "language": "python",
   "name": "python3"
  },
  "language_info": {
   "codemirror_mode": {
    "name": "ipython",
    "version": 3
   },
   "file_extension": ".py",
   "mimetype": "text/x-python",
   "name": "python",
   "nbconvert_exporter": "python",
   "pygments_lexer": "ipython3",
   "version": "3.6.0"
  }
 },
 "nbformat": 4,
 "nbformat_minor": 2
}
