{
 "cells": [
  {
   "cell_type": "code",
   "execution_count": 1,
   "metadata": {},
   "outputs": [
    {
     "name": "stderr",
     "output_type": "stream",
     "text": [
      "Using TensorFlow backend.\n"
     ]
    }
   ],
   "source": [
    "from keras.models import Sequential\n",
    "from keras.layers import Dense\n",
    "import numpy as np\n",
    "\n",
    "np.random.seed(7)"
   ]
  },
  {
   "cell_type": "code",
   "execution_count": 4,
   "metadata": {
    "collapsed": true
   },
   "outputs": [],
   "source": [
    "# load data\n",
    "# (data describes patient medical record data for Pima Indians and\n",
    "#  whether they had an onset of diabetes within five years.)\n",
    "\n",
    "data = np.loadtxt(\"data/pima-indians-diabetes.csv\", delimiter=\",\")\n",
    "X = data[:,0:8]\n",
    "Y = data[:,8]"
   ]
  },
  {
   "cell_type": "code",
   "execution_count": 8,
   "metadata": {},
   "outputs": [],
   "source": [
    "# create model\n",
    "\n",
    "model = Sequential()\n",
    "model.add(Dense(12, input_dim=8, activation='relu'))\n",
    "model.add(Dense(8, activation='relu'))\n",
    "model.add(Dense(1, activation='sigmoid'))"
   ]
  },
  {
   "cell_type": "code",
   "execution_count": 9,
   "metadata": {
    "collapsed": true
   },
   "outputs": [],
   "source": [
    "# compile model\n",
    "\n",
    "model.compile(\n",
    "    optimizer='adam',\n",
    "    loss='binary_crossentropy',\n",
    "    metrics=['accuracy']\n",
    ")"
   ]
  },
  {
   "cell_type": "code",
   "execution_count": 11,
   "metadata": {
    "scrolled": false
   },
   "outputs": [
    {
     "name": "stdout",
     "output_type": "stream",
     "text": [
      "Epoch 1/20\n",
      "768/768 [==============================] - 0s - loss: 0.4827 - acc: 0.7656     \n",
      "Epoch 2/20\n",
      "768/768 [==============================] - 0s - loss: 0.4661 - acc: 0.8047     \n",
      "Epoch 3/20\n",
      "768/768 [==============================] - 0s - loss: 0.4710 - acc: 0.7773     \n",
      "Epoch 4/20\n",
      "768/768 [==============================] - 0s - loss: 0.4885 - acc: 0.7773     \n",
      "Epoch 5/20\n",
      "768/768 [==============================] - 0s - loss: 0.4712 - acc: 0.7708     \n",
      "Epoch 6/20\n",
      "768/768 [==============================] - 0s - loss: 0.4672 - acc: 0.7786     \n",
      "Epoch 7/20\n",
      "768/768 [==============================] - 0s - loss: 0.4716 - acc: 0.7878     \n",
      "Epoch 8/20\n",
      "768/768 [==============================] - 0s - loss: 0.4625 - acc: 0.7891     \n",
      "Epoch 9/20\n",
      "768/768 [==============================] - 0s - loss: 0.4638 - acc: 0.7852     \n",
      "Epoch 10/20\n",
      "768/768 [==============================] - 0s - loss: 0.4756 - acc: 0.7865     \n",
      "Epoch 11/20\n",
      "768/768 [==============================] - 0s - loss: 0.4746 - acc: 0.7812     \n",
      "Epoch 12/20\n",
      "768/768 [==============================] - 0s - loss: 0.4632 - acc: 0.7786     \n",
      "Epoch 13/20\n",
      "768/768 [==============================] - 0s - loss: 0.4926 - acc: 0.7799     \n",
      "Epoch 14/20\n",
      "768/768 [==============================] - 0s - loss: 0.4680 - acc: 0.7878     \n",
      "Epoch 15/20\n",
      "768/768 [==============================] - 0s - loss: 0.4740 - acc: 0.7878     \n",
      "Epoch 16/20\n",
      "768/768 [==============================] - 0s - loss: 0.4641 - acc: 0.7969     \n",
      "Epoch 17/20\n",
      "768/768 [==============================] - 0s - loss: 0.4604 - acc: 0.7760     \n",
      "Epoch 18/20\n",
      "768/768 [==============================] - 0s - loss: 0.4719 - acc: 0.7721     \n",
      "Epoch 19/20\n",
      "768/768 [==============================] - 0s - loss: 0.4658 - acc: 0.7786     - ETA: 0s - loss: 0.4711 - acc: 0.\n",
      "Epoch 20/20\n",
      "768/768 [==============================] - 0s - loss: 0.4685 - acc: 0.7799     \n"
     ]
    },
    {
     "data": {
      "text/plain": [
       "<keras.callbacks.History at 0x1171cacf8>"
      ]
     },
     "execution_count": 11,
     "metadata": {},
     "output_type": "execute_result"
    }
   ],
   "source": [
    "# fit model\n",
    "\n",
    "model.fit(X, Y, epochs=20, batch_size=10)"
   ]
  },
  {
   "cell_type": "code",
   "execution_count": 12,
   "metadata": {},
   "outputs": [
    {
     "name": "stdout",
     "output_type": "stream",
     "text": [
      "\r",
      " 32/768 [>.............................] - ETA: 1s"
     ]
    }
   ],
   "source": [
    "# evaluate model (on train data only)\n",
    "\n",
    "loss, accuracy = model.evaluate(X, Y, verbose=1)"
   ]
  },
  {
   "cell_type": "code",
   "execution_count": 13,
   "metadata": {},
   "outputs": [
    {
     "name": "stdout",
     "output_type": "stream",
     "text": [
      "loss:  0.445918185016\n",
      "accuracy:  0.803385416667\n"
     ]
    }
   ],
   "source": [
    "print('loss: ', loss)\n",
    "print('accuracy: ', accuracy)"
   ]
  }
 ],
 "metadata": {
  "kernelspec": {
   "display_name": "Python 3",
   "language": "python",
   "name": "python3"
  },
  "language_info": {
   "codemirror_mode": {
    "name": "ipython",
    "version": 3
   },
   "file_extension": ".py",
   "mimetype": "text/x-python",
   "name": "python",
   "nbconvert_exporter": "python",
   "pygments_lexer": "ipython3",
   "version": "3.6.0"
  }
 },
 "nbformat": 4,
 "nbformat_minor": 2
}
